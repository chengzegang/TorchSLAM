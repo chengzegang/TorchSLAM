{
 "cells": [
  {
   "cell_type": "code",
   "execution_count": 5,
   "metadata": {},
   "outputs": [],
   "source": [
    "import torch\n",
    "import uuid\n",
    "import os\n",
    "\n",
    "B = 4\n",
    "N = 5\n",
    "af = torch.rand(B, N, 512)\n",
    "af = af.view(B * N, 512)\n",
    "ap = torch.rand(B, 4, 4).unsqueeze(1).repeat(1, N, 1, 1)\n",
    "ap = ap.view(B * N, 4, 4)\n",
    "ap2ds = torch.rand(B, N, 2).view(B * N, 2)\n",
    "\n",
    "bf = torch.rand(B, N, 512).view(B * N, 512)\n",
    "bp = torch.rand(B, 4, 4).unsqueeze(1).repeat(1, N, 1, 1).view(B * N, 4, 4)\n",
    "bp2ds = torch.rand(B, N, 2).view(B * N, 2)\n",
    "\n",
    "f = (af + bf) / 2\n",
    "\n",
    "f = f.tolist()\n",
    "\n",
    "p3ds = torch.rand(B, N, 3).view(B * N, 3).tolist()\n",
    "\n",
    "\n",
    "feature_ids = [uuid.uuid4().hex for _ in range(B * N)]\n",
    "\n",
    "keyframe_a_ids = [uuid.uuid4().hex for _ in range(B)]\n",
    "keyframe_b_ids = [uuid.uuid4().hex for _ in range(B)]\n",
    "\n",
    "keypoint_id_a_lists = [[uuid.uuid4().hex for _ in range(N)] for _ in range(B)]\n",
    "keypoint_id_b_lists = [[uuid.uuid4().hex for _ in range(N)] for _ in range(B)]\n",
    "\n",
    "keypoint_id_lists = keypoint_id_a_lists + keypoint_id_b_lists\n",
    "\n",
    "keypoint_a_ids = [k for ks in keypoint_id_a_lists for k in ks]\n",
    "keypoint_b_ids = [k for ks in keypoint_id_b_lists for k in ks]\n",
    "\n",
    "keypoint_ids = keypoint_a_ids + keypoint_b_ids\n",
    "\n",
    "landmark_id_lists = [[uuid.uuid4().hex for _ in range(N)] for _ in range(B)]\n",
    "landmark_ids = [l for ls in landmark_id_lists for l in ls]\n",
    "key_landmark_ids = landmark_id_lists + landmark_id_lists\n",
    "\n",
    "\n",
    "params=dict(\n",
    "    feature_ids=feature_ids,\n",
    "    features=f,\n",
    ")"
   ]
  },
  {
   "cell_type": "code",
   "execution_count": 1,
   "metadata": {},
   "outputs": [
    {
     "data": {
      "text/html": [
       "<div>\n",
       "<style scoped>\n",
       "    .dataframe tbody tr th:only-of-type {\n",
       "        vertical-align: middle;\n",
       "    }\n",
       "\n",
       "    .dataframe tbody tr th {\n",
       "        vertical-align: top;\n",
       "    }\n",
       "\n",
       "    .dataframe thead th {\n",
       "        text-align: right;\n",
       "    }\n",
       "</style>\n",
       "<table border=\"1\" class=\"dataframe\">\n",
       "  <thead>\n",
       "    <tr style=\"text-align: right;\">\n",
       "      <th></th>\n",
       "      <th>status</th>\n",
       "    </tr>\n",
       "  </thead>\n",
       "  <tbody>\n",
       "    <tr>\n",
       "      <th>0</th>\n",
       "      <td>OK</td>\n",
       "    </tr>\n",
       "  </tbody>\n",
       "</table>\n",
       "</div>"
      ],
      "text/plain": [
       "  status\n",
       "0     OK"
      ]
     },
     "execution_count": 1,
     "metadata": {},
     "output_type": "execute_result"
    }
   ],
   "source": [
    "from pycozo import Client\n",
    "client = Client('rocksdb', 'map.db')\n",
    "client.run(open('init.DIALOG').read())\n",
    "client.run(open('index.DIALOG').read())"
   ]
  },
  {
   "cell_type": "code",
   "execution_count": 27,
   "metadata": {},
   "outputs": [],
   "source": [
    "def rule_zip_impl(inputs, options):\n",
    "    x, y = inputs\n",
    "    x = [j for i in x for j in i]\n",
    "    y = [j for i in y for j in i]\n",
    "    return list(zip(x, y))\n",
    "client.unregister_fixed_rule('Zip')\n",
    "client.register_fixed_rule('Zip', 2, rule_zip_impl)"
   ]
  },
  {
   "cell_type": "code",
   "execution_count": 28,
   "metadata": {},
   "outputs": [
    {
     "data": {
      "text/html": [
       "<div>\n",
       "<style scoped>\n",
       "    .dataframe tbody tr th:only-of-type {\n",
       "        vertical-align: middle;\n",
       "    }\n",
       "\n",
       "    .dataframe tbody tr th {\n",
       "        vertical-align: top;\n",
       "    }\n",
       "\n",
       "    .dataframe thead th {\n",
       "        text-align: right;\n",
       "    }\n",
       "</style>\n",
       "<table border=\"1\" class=\"dataframe\">\n",
       "  <thead>\n",
       "    <tr style=\"text-align: right;\">\n",
       "      <th></th>\n",
       "      <th>feature_id</th>\n",
       "      <th>feature</th>\n",
       "    </tr>\n",
       "  </thead>\n",
       "  <tbody>\n",
       "    <tr>\n",
       "      <th>0</th>\n",
       "      <td>[86f570fbff6a4012baa909491f7475d1, bbeb8141316...</td>\n",
       "      <td>[[0.23952218890190125, 0.4931360185146332, 0.3...</td>\n",
       "    </tr>\n",
       "  </tbody>\n",
       "</table>\n",
       "</div>"
      ],
      "text/plain": [
       "                                          feature_id   \n",
       "0  [86f570fbff6a4012baa909491f7475d1, bbeb8141316...  \\\n",
       "\n",
       "                                             feature  \n",
       "0  [[0.23952218890190125, 0.4931360185146332, 0.3...  "
      ]
     },
     "execution_count": 28,
     "metadata": {},
     "output_type": "execute_result"
    }
   ],
   "source": [
    "CMD = \"\"\"\n",
    "{   \n",
    "    r_ids[] <- [[$feature_ids]]\n",
    "    r_data[] <- [[$features]]\n",
    "    ?[feature_id, feature] <~ Zip(r_ids[], r_data[])\n",
    "}\n",
    "\"\"\"\n",
    "client.run(CMD, params=params)"
   ]
  },
  {
   "cell_type": "code",
   "execution_count": 12,
   "metadata": {},
   "outputs": [
    {
     "ename": "AttributeError",
     "evalue": "'str' object has no attribute 'get'",
     "output_type": "error",
     "traceback": [
      "\u001b[0;31m---------------------------------------------------------------------------\u001b[0m",
      "\u001b[0;31mAttributeError\u001b[0m                            Traceback (most recent call last)",
      "File \u001b[0;32m~/mambaforge/lib/python3.10/site-packages/IPython/core/formatters.py:708\u001b[0m, in \u001b[0;36mPlainTextFormatter.__call__\u001b[0;34m(self, obj)\u001b[0m\n\u001b[1;32m    701\u001b[0m stream \u001b[39m=\u001b[39m StringIO()\n\u001b[1;32m    702\u001b[0m printer \u001b[39m=\u001b[39m pretty\u001b[39m.\u001b[39mRepresentationPrinter(stream, \u001b[39mself\u001b[39m\u001b[39m.\u001b[39mverbose,\n\u001b[1;32m    703\u001b[0m     \u001b[39mself\u001b[39m\u001b[39m.\u001b[39mmax_width, \u001b[39mself\u001b[39m\u001b[39m.\u001b[39mnewline,\n\u001b[1;32m    704\u001b[0m     max_seq_length\u001b[39m=\u001b[39m\u001b[39mself\u001b[39m\u001b[39m.\u001b[39mmax_seq_length,\n\u001b[1;32m    705\u001b[0m     singleton_pprinters\u001b[39m=\u001b[39m\u001b[39mself\u001b[39m\u001b[39m.\u001b[39msingleton_printers,\n\u001b[1;32m    706\u001b[0m     type_pprinters\u001b[39m=\u001b[39m\u001b[39mself\u001b[39m\u001b[39m.\u001b[39mtype_printers,\n\u001b[1;32m    707\u001b[0m     deferred_pprinters\u001b[39m=\u001b[39m\u001b[39mself\u001b[39m\u001b[39m.\u001b[39mdeferred_printers)\n\u001b[0;32m--> 708\u001b[0m printer\u001b[39m.\u001b[39;49mpretty(obj)\n\u001b[1;32m    709\u001b[0m printer\u001b[39m.\u001b[39mflush()\n\u001b[1;32m    710\u001b[0m \u001b[39mreturn\u001b[39;00m stream\u001b[39m.\u001b[39mgetvalue()\n",
      "File \u001b[0;32m~/mambaforge/lib/python3.10/site-packages/IPython/lib/pretty.py:407\u001b[0m, in \u001b[0;36mRepresentationPrinter.pretty\u001b[0;34m(self, obj)\u001b[0m\n\u001b[1;32m    405\u001b[0m     meth \u001b[39m=\u001b[39m \u001b[39mcls\u001b[39m\u001b[39m.\u001b[39m_repr_pretty_\n\u001b[1;32m    406\u001b[0m     \u001b[39mif\u001b[39;00m \u001b[39mcallable\u001b[39m(meth):\n\u001b[0;32m--> 407\u001b[0m         \u001b[39mreturn\u001b[39;00m meth(obj, \u001b[39mself\u001b[39;49m, cycle)\n\u001b[1;32m    408\u001b[0m \u001b[39mif\u001b[39;00m \u001b[39mcls\u001b[39m \u001b[39mis\u001b[39;00m \u001b[39mnot\u001b[39;00m \u001b[39mobject\u001b[39m \\\n\u001b[1;32m    409\u001b[0m         \u001b[39mand\u001b[39;00m \u001b[39mcallable\u001b[39m(\u001b[39mcls\u001b[39m\u001b[39m.\u001b[39m\u001b[39m__dict__\u001b[39m\u001b[39m.\u001b[39mget(\u001b[39m'\u001b[39m\u001b[39m__repr__\u001b[39m\u001b[39m'\u001b[39m)):\n\u001b[1;32m    410\u001b[0m     \u001b[39mreturn\u001b[39;00m _repr_pprint(obj, \u001b[39mself\u001b[39m, cycle)\n",
      "File \u001b[0;32m~/mambaforge/lib/python3.10/site-packages/pycozo/client.py:354\u001b[0m, in \u001b[0;36mQueryException._repr_pretty_\u001b[0;34m(self, p, cycle)\u001b[0m\n\u001b[1;32m    353\u001b[0m \u001b[39mdef\u001b[39;00m \u001b[39m_repr_pretty_\u001b[39m(\u001b[39mself\u001b[39m, p, cycle):\n\u001b[0;32m--> 354\u001b[0m     p\u001b[39m.\u001b[39mtext(\u001b[39mrepr\u001b[39;49m(\u001b[39mself\u001b[39;49m))\n",
      "File \u001b[0;32m~/mambaforge/lib/python3.10/site-packages/pycozo/client.py:348\u001b[0m, in \u001b[0;36mQueryException.__repr__\u001b[0;34m(self)\u001b[0m\n\u001b[1;32m    347\u001b[0m \u001b[39mdef\u001b[39;00m \u001b[39m__repr__\u001b[39m(\u001b[39mself\u001b[39m):\n\u001b[0;32m--> 348\u001b[0m     \u001b[39mreturn\u001b[39;00m \u001b[39mself\u001b[39;49m\u001b[39m.\u001b[39;49mresp\u001b[39m.\u001b[39;49mget(\u001b[39m'\u001b[39m\u001b[39mdisplay\u001b[39m\u001b[39m'\u001b[39m) \u001b[39mor\u001b[39;00m \u001b[39mself\u001b[39m\u001b[39m.\u001b[39mresp\u001b[39m.\u001b[39mget(\u001b[39m'\u001b[39m\u001b[39mmessage\u001b[39m\u001b[39m'\u001b[39m) \u001b[39mor\u001b[39;00m \u001b[39mstr\u001b[39m(\u001b[39mself\u001b[39m\u001b[39m.\u001b[39mresp)\n",
      "\u001b[0;31mAttributeError\u001b[0m: 'str' object has no attribute 'get'"
     ]
    }
   ],
   "source": [
    "%cozo_run_file 'update.DIALOG'"
   ]
  },
  {
   "cell_type": "code",
   "execution_count": 5,
   "metadata": {},
   "outputs": [
    {
     "data": {
      "text/html": [
       "<div>\n",
       "<style scoped>\n",
       "    .dataframe tbody tr th:only-of-type {\n",
       "        vertical-align: middle;\n",
       "    }\n",
       "\n",
       "    .dataframe tbody tr th {\n",
       "        vertical-align: top;\n",
       "    }\n",
       "\n",
       "    .dataframe thead th {\n",
       "        text-align: right;\n",
       "    }\n",
       "</style>\n",
       "<table border=\"1\" class=\"dataframe\">\n",
       "  <thead>\n",
       "    <tr style=\"text-align: right;\">\n",
       "      <th></th>\n",
       "      <th>feature_id</th>\n",
       "      <th>data</th>\n",
       "    </tr>\n",
       "  </thead>\n",
       "  <tbody>\n",
       "    <tr>\n",
       "      <th>0</th>\n",
       "      <td>aa4f0b31-952b-4302-9dd2-7f6efb94a9f7</td>\n",
       "      <td>[0.985819935798645, 0.18311095237731934, 0.390...</td>\n",
       "    </tr>\n",
       "    <tr>\n",
       "      <th>1</th>\n",
       "      <td>839d8cac-0c4d-4362-a798-5ae107701d96</td>\n",
       "      <td>[0.985819935798645, 0.18311095237731934, 0.390...</td>\n",
       "    </tr>\n",
       "    <tr>\n",
       "      <th>2</th>\n",
       "      <td>24881a4b-6418-45e6-bdcf-991175c475fe</td>\n",
       "      <td>[0.985819935798645, 0.18311095237731934, 0.390...</td>\n",
       "    </tr>\n",
       "    <tr>\n",
       "      <th>3</th>\n",
       "      <td>79d8d11d-2677-4782-a692-c8ac73fafb7f</td>\n",
       "      <td>[0.985819935798645, 0.18311095237731934, 0.390...</td>\n",
       "    </tr>\n",
       "    <tr>\n",
       "      <th>4</th>\n",
       "      <td>f8b21c86-6e50-4b78-9f11-0557dac7082c</td>\n",
       "      <td>[0.985819935798645, 0.18311095237731934, 0.390...</td>\n",
       "    </tr>\n",
       "    <tr>\n",
       "      <th>5</th>\n",
       "      <td>39d79d5d-e2f0-4df0-b241-df9729d01201</td>\n",
       "      <td>[0.985819935798645, 0.18311095237731934, 0.390...</td>\n",
       "    </tr>\n",
       "    <tr>\n",
       "      <th>6</th>\n",
       "      <td>f50f248d-cf10-4e6f-8c61-69167f7b4d51</td>\n",
       "      <td>[0.985819935798645, 0.18311095237731934, 0.390...</td>\n",
       "    </tr>\n",
       "    <tr>\n",
       "      <th>7</th>\n",
       "      <td>6c461828-d2f1-4f47-be34-911d016a588e</td>\n",
       "      <td>[0.985819935798645, 0.18311095237731934, 0.390...</td>\n",
       "    </tr>\n",
       "  </tbody>\n",
       "</table>\n",
       "</div>"
      ],
      "text/plain": [
       "                             feature_id   \n",
       "0  aa4f0b31-952b-4302-9dd2-7f6efb94a9f7  \\\n",
       "1  839d8cac-0c4d-4362-a798-5ae107701d96   \n",
       "2  24881a4b-6418-45e6-bdcf-991175c475fe   \n",
       "3  79d8d11d-2677-4782-a692-c8ac73fafb7f   \n",
       "4  f8b21c86-6e50-4b78-9f11-0557dac7082c   \n",
       "5  39d79d5d-e2f0-4df0-b241-df9729d01201   \n",
       "6  f50f248d-cf10-4e6f-8c61-69167f7b4d51   \n",
       "7  6c461828-d2f1-4f47-be34-911d016a588e   \n",
       "\n",
       "                                                data  \n",
       "0  [0.985819935798645, 0.18311095237731934, 0.390...  \n",
       "1  [0.985819935798645, 0.18311095237731934, 0.390...  \n",
       "2  [0.985819935798645, 0.18311095237731934, 0.390...  \n",
       "3  [0.985819935798645, 0.18311095237731934, 0.390...  \n",
       "4  [0.985819935798645, 0.18311095237731934, 0.390...  \n",
       "5  [0.985819935798645, 0.18311095237731934, 0.390...  \n",
       "6  [0.985819935798645, 0.18311095237731934, 0.390...  \n",
       "7  [0.985819935798645, 0.18311095237731934, 0.390...  "
      ]
     },
     "execution_count": 5,
     "metadata": {},
     "output_type": "execute_result"
    }
   ],
   "source": [
    "%cozo_run_string \"?[feature_id, data] := *feature[feature_id, data]\""
   ]
  },
  {
   "cell_type": "code",
   "execution_count": 19,
   "metadata": {},
   "outputs": [
    {
     "data": {
      "text/html": [
       "<div>\n",
       "<style scoped>\n",
       "    .dataframe tbody tr th:only-of-type {\n",
       "        vertical-align: middle;\n",
       "    }\n",
       "\n",
       "    .dataframe tbody tr th {\n",
       "        vertical-align: top;\n",
       "    }\n",
       "\n",
       "    .dataframe thead th {\n",
       "        text-align: right;\n",
       "    }\n",
       "</style>\n",
       "<table border=\"1\" class=\"dataframe\">\n",
       "  <thead>\n",
       "    <tr style=\"text-align: right;\">\n",
       "      <th></th>\n",
       "      <th>landmark_id</th>\n",
       "      <th>xyz</th>\n",
       "      <th>feature</th>\n",
       "      <th>keypoint_ids</th>\n",
       "    </tr>\n",
       "  </thead>\n",
       "  <tbody>\n",
       "  </tbody>\n",
       "</table>\n",
       "</div>"
      ],
      "text/plain": [
       "Empty DataFrame\n",
       "Columns: [landmark_id, xyz, feature, keypoint_ids]\n",
       "Index: []"
      ]
     },
     "execution_count": 19,
     "metadata": {},
     "output_type": "execute_result"
    }
   ],
   "source": [
    "%cozo_run_string \"?[landmark_id, xyz, feature, keypoint_ids] := *landmark[landmark_id, xyz, feature, keypoint_ids]\""
   ]
  },
  {
   "cell_type": "code",
   "execution_count": 6,
   "metadata": {},
   "outputs": [
    {
     "data": {
      "text/html": [
       "<div>\n",
       "<style scoped>\n",
       "    .dataframe tbody tr th:only-of-type {\n",
       "        vertical-align: middle;\n",
       "    }\n",
       "\n",
       "    .dataframe tbody tr th {\n",
       "        vertical-align: top;\n",
       "    }\n",
       "\n",
       "    .dataframe thead th {\n",
       "        text-align: right;\n",
       "    }\n",
       "</style>\n",
       "<table border=\"1\" class=\"dataframe\">\n",
       "  <thead>\n",
       "    <tr style=\"text-align: right;\">\n",
       "      <th></th>\n",
       "      <th>keyframe_id</th>\n",
       "      <th>pose</th>\n",
       "      <th>keypoint_ids</th>\n",
       "    </tr>\n",
       "  </thead>\n",
       "  <tbody>\n",
       "  </tbody>\n",
       "</table>\n",
       "</div>"
      ],
      "text/plain": [
       "Empty DataFrame\n",
       "Columns: [keyframe_id, pose, keypoint_ids]\n",
       "Index: []"
      ]
     },
     "execution_count": 6,
     "metadata": {},
     "output_type": "execute_result"
    }
   ],
   "source": [
    "%cozo_run_string \"?[keyframe_id, pose, keypoint_ids] := *keyframe[keyframe_id, pose, keypoint_ids]\""
   ]
  },
  {
   "cell_type": "code",
   "execution_count": 5,
   "metadata": {},
   "outputs": [
    {
     "data": {
      "text/html": [
       "<div>\n",
       "<style scoped>\n",
       "    .dataframe tbody tr th:only-of-type {\n",
       "        vertical-align: middle;\n",
       "    }\n",
       "\n",
       "    .dataframe tbody tr th {\n",
       "        vertical-align: top;\n",
       "    }\n",
       "\n",
       "    .dataframe thead th {\n",
       "        text-align: right;\n",
       "    }\n",
       "</style>\n",
       "<table border=\"1\" class=\"dataframe\">\n",
       "  <thead>\n",
       "    <tr style=\"text-align: right;\">\n",
       "      <th></th>\n",
       "      <th>keypoint_id</th>\n",
       "      <th>xy</th>\n",
       "      <th>keyframe_id</th>\n",
       "      <th>landmark_id</th>\n",
       "    </tr>\n",
       "  </thead>\n",
       "  <tbody>\n",
       "  </tbody>\n",
       "</table>\n",
       "</div>"
      ],
      "text/plain": [
       "Empty DataFrame\n",
       "Columns: [keypoint_id, xy, keyframe_id, landmark_id]\n",
       "Index: []"
      ]
     },
     "execution_count": 5,
     "metadata": {},
     "output_type": "execute_result"
    }
   ],
   "source": [
    "%cozo_run_string \"?[keypoint_id, xy, keyframe_id, landmark_id] := *keypoint[keypoint_id, xy, keyframe_id, landmark_id]\""
   ]
  },
  {
   "cell_type": "code",
   "execution_count": null,
   "metadata": {},
   "outputs": [],
   "source": []
  }
 ],
 "metadata": {
  "kernelspec": {
   "display_name": "base",
   "language": "python",
   "name": "python3"
  },
  "language_info": {
   "codemirror_mode": {
    "name": "ipython",
    "version": 3
   },
   "file_extension": ".py",
   "mimetype": "text/x-python",
   "name": "python",
   "nbconvert_exporter": "python",
   "pygments_lexer": "ipython3",
   "version": "3.10.10"
  },
  "orig_nbformat": 4
 },
 "nbformat": 4,
 "nbformat_minor": 2
}

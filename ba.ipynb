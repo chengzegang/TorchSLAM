{
 "cells": [
  {
   "cell_type": "code",
   "execution_count": 1,
   "metadata": {},
   "outputs": [],
   "source": [
    "import torch\n",
    "from torch.func import vmap, jvp, grad\n",
    "from torch.optim import Adam"
   ]
  },
  {
   "cell_type": "code",
   "execution_count": 5,
   "metadata": {},
   "outputs": [
    {
     "data": {
      "text/plain": [
       "tensor([1., 1., 1., 1., 1., 1., 1., 1., 1., 1., 1., 1., 1., 1., 1., 1., 1., 1.,\n",
       "        1., 1., 1., 1., 1., 1., 1., 1., 1., 1., 1., 1., 1., 1., 1., 1., 1., 1.,\n",
       "        1., 1., 1., 1., 1., 1., 1., 1., 1., 1., 1., 1., 1., 1., 1., 1., 1., 1.,\n",
       "        1., 1., 1., 1., 1., 1., 1., 1., 1., 1., 1., 1., 1., 1., 1., 1., 1., 1.,\n",
       "        1., 1., 1., 1., 1., 1., 1., 1., 1., 1., 1., 1., 1., 1., 1., 1., 1., 1.,\n",
       "        1., 1., 1., 1., 1., 1., 1., 1., 1.])"
      ]
     },
     "execution_count": 5,
     "metadata": {},
     "output_type": "execute_result"
    }
   ],
   "source": [
    "import torch\n",
    "a = torch.arange(100).to(torch.float32)\n",
    "torch.diff(a, dim=0)"
   ]
  },
  {
   "cell_type": "code",
   "execution_count": 2,
   "metadata": {},
   "outputs": [],
   "source": [
    "\n",
    "\n",
    "def so3(phi):\n",
    "    B = phi.shape[0]\n",
    "    R = torch.zeros(B, 3, 3, device=phi.device, dtype=phi.dtype)\n",
    "    R[:, 0, 1] = -phi[:, 2]\n",
    "    R[:, 0, 2] = phi[:, 1]\n",
    "    R[:, 1, 0] = phi[:, 2]\n",
    "    R[:, 1, 2] = -phi[:, 0]\n",
    "    R[:, 2, 0] = -phi[:, 1]\n",
    "    R[:, 2, 1] = phi[:, 0]\n",
    "    R = R + torch.eye(3, device=phi.device, dtype=phi.dtype).view(1, 3, 3)\n",
    "    return R\n",
    "\n",
    "def reproject(x, phi, t):\n",
    "    \n",
    "    R = so3(phi)\n",
    "    R_inv = torch.linalg.inv(R)\n",
    "    t_inv = -t\n",
    "    xh = (x @ R_inv.transpose(-1, -2) + t_inv.view(4, 1, 3)) @ R.transpose(-1, -2) + t.view(4, 1, 3)\n",
    "    return xh\n",
    "\n",
    "pts = torch.randn(4, 10, 3).cuda()\n",
    "phi = torch.randn(4, 3).cuda().requires_grad_()\n",
    "t = torch.randn(4, 3).cuda().requires_grad_()\n",
    "opt = Adam([phi, t], lr=1e-3)\n",
    "\n",
    "for _ in range(1000):\n",
    "    opt.zero_grad()\n",
    "    xh = reproject(pts, phi, t)\n",
    "    err = torch.norm(xh - pts, dim=-1).mean()\n",
    "    err.backward()\n",
    "    opt.step()"
   ]
  },
  {
   "cell_type": "code",
   "execution_count": null,
   "metadata": {},
   "outputs": [],
   "source": []
  }
 ],
 "metadata": {
  "kernelspec": {
   "display_name": "base",
   "language": "python",
   "name": "python3"
  },
  "language_info": {
   "codemirror_mode": {
    "name": "ipython",
    "version": 3
   },
   "file_extension": ".py",
   "mimetype": "text/x-python",
   "name": "python",
   "nbconvert_exporter": "python",
   "pygments_lexer": "ipython3",
   "version": "3.10.10"
  },
  "orig_nbformat": 4
 },
 "nbformat": 4,
 "nbformat_minor": 2
}

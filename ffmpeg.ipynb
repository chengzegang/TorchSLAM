{
 "cells": [
  {
   "cell_type": "code",
   "execution_count": 8,
   "metadata": {},
   "outputs": [],
   "source": [
    "import ffmpeg\n",
    "import torch\n",
    "import numpy as np"
   ]
  },
  {
   "cell_type": "code",
   "execution_count": 10,
   "metadata": {},
   "outputs": [
    {
     "name": "stderr",
     "output_type": "stream",
     "text": [
      "ffmpeg version 5.1.2 Copyright (c) 2000-2022 the FFmpeg developers\n",
      "  built with gcc 11.3.0 (conda-forge gcc 11.3.0-19)\n",
      "  configuration: --prefix=/home/conda/feedstock_root/build_artifacts/ffmpeg_1674566204550/_h_env_placehold_placehold_placehold_placehold_placehold_placehold_placehold_placehold_placehold_placehold_placehold_placehold_placehold_placehold_placehold_placehold_placehold_placehold_plac --cc=/home/conda/feedstock_root/build_artifacts/ffmpeg_1674566204550/_build_env/bin/x86_64-conda-linux-gnu-cc --cxx=/home/conda/feedstock_root/build_artifacts/ffmpeg_1674566204550/_build_env/bin/x86_64-conda-linux-gnu-c++ --nm=/home/conda/feedstock_root/build_artifacts/ffmpeg_1674566204550/_build_env/bin/x86_64-conda-linux-gnu-nm --ar=/home/conda/feedstock_root/build_artifacts/ffmpeg_1674566204550/_build_env/bin/x86_64-conda-linux-gnu-ar --disable-doc --disable-openssl --enable-demuxer=dash --enable-hardcoded-tables --enable-libfreetype --enable-libfontconfig --enable-libopenh264 --enable-gnutls --enable-libmp3lame --enable-libvpx --enable-pthreads --enable-vaapi --enable-gpl --enable-libx264 --enable-libx265 --enable-libaom --enable-libsvtav1 --enable-libxml2 --enable-pic --enable-shared --disable-static --enable-version3 --enable-zlib --enable-libopus --pkg-config=/home/conda/feedstock_root/build_artifacts/ffmpeg_1674566204550/_build_env/bin/pkg-config\n",
      "  libavutil      57. 28.100 / 57. 28.100\n",
      "  libavcodec     59. 37.100 / 59. 37.100\n",
      "  libavformat    59. 27.100 / 59. 27.100\n",
      "  libavdevice    59.  7.100 / 59.  7.100\n",
      "  libavfilter     8. 44.100 /  8. 44.100\n",
      "  libswscale      6.  7.100 /  6.  7.100\n",
      "  libswresample   4.  7.100 /  4.  7.100\n",
      "  libpostproc    56.  6.100 / 56.  6.100\n",
      "Input #0, mov,mp4,m4a,3gp,3g2,mj2, from '/mnt/d/data/tandon/floor1.mp4':\n",
      "  Metadata:\n",
      "    major_brand     : isom\n",
      "    minor_version   : 512\n",
      "    compatible_brands: isomiso2mp41\n",
      "    creation_time   : 2023-05-05T19:17:49.000000Z\n",
      "    encoder         : Lavf58.13.101\n",
      "  Duration: 00:26:58.71, start: 0.000000, bitrate: 90208 kb/s\n",
      "  Stream #0:0[0x1](und): Video: hevc (Main) (hvc1 / 0x31637668), yuvj420p(pc, smpte170m), 5760x2880 [SAR 1:1 DAR 2:1], 90074 kb/s, 24 fps, 24 tbr, 24k tbn (default)\n",
      "    Metadata:\n",
      "      creation_time   : 2023-05-05T19:17:49.000000Z\n",
      "      handler_name    : VideoHandler\n",
      "      vendor_id       : [0][0][0][0]\n",
      "    Side data:\n",
      "      stereo3d: 2D\n",
      "      spherical: equirectangular (0.000000/0.000000/0.000000) \n",
      "  Stream #0:1[0x2](und): Audio: aac (LC) (mp4a / 0x6134706D), 48000 Hz, stereo, fltp, 128 kb/s (default)\n",
      "    Metadata:\n",
      "      creation_time   : 2023-05-05T19:17:49.000000Z\n",
      "      handler_name    : SoundHandler\n",
      "      vendor_id       : [0][0][0][0]\n",
      "Stream mapping:\n",
      "  Stream #0:0 (hevc) -> scale:default\n",
      "  scale:default -> Stream #0:0 (rawvideo)\n",
      "Press [q] to stop, [?] for help\n",
      "[swscaler @ 0x5643b910ef80] [swscaler @ 0x5643b911c5c0] deprecated pixel format used, make sure you did set range correctly\n",
      "[swscaler @ 0x5643b910ef80] [swscaler @ 0x5643b918e480] deprecated pixel format used, make sure you did set range correctly\n",
      "[swscaler @ 0x5643b910ef80] [swscaler @ 0x5643b9200340] deprecated pixel format used, make sure you did set range correctly\n",
      "[swscaler @ 0x5643b910ef80] [swscaler @ 0x5643b9272200] deprecated pixel format used, make sure you did set range correctly\n",
      "[swscaler @ 0x5643b910ef80] [swscaler @ 0x5643b92e40c0] deprecated pixel format used, make sure you did set range correctly\n",
      "[swscaler @ 0x5643b910ef80] [swscaler @ 0x5643b9356140] deprecated pixel format used, make sure you did set range correctly\n",
      "[swscaler @ 0x5643b910ef80] [swscaler @ 0x5643b93c8240] deprecated pixel format used, make sure you did set range correctly\n",
      "[swscaler @ 0x5643b910ef80] [swscaler @ 0x5643b943a340] deprecated pixel format used, make sure you did set range correctly\n",
      "[swscaler @ 0x5643b910ef80] [swscaler @ 0x5643b94ac440] deprecated pixel format used, make sure you did set range correctly\n",
      "[swscaler @ 0x5643b91c0500] [swscaler @ 0x5643b92323c0] deprecated pixel format used, make sure you did set range correctly\n",
      "[swscaler @ 0x5643b91c0500] [swscaler @ 0x5643b9243e00] deprecated pixel format used, make sure you did set range correctly\n",
      "[swscaler @ 0x5643b91c0500] [swscaler @ 0x5643b91e1600] deprecated pixel format used, make sure you did set range correctly\n",
      "[swscaler @ 0x5643b91c0500] [swscaler @ 0x5643b9182880] deprecated pixel format used, make sure you did set range correctly\n",
      "[swscaler @ 0x5643b91c0500] [swscaler @ 0x5643b92eab80] deprecated pixel format used, make sure you did set range correctly\n",
      "[swscaler @ 0x5643b91c0500] [swscaler @ 0x5643b93b8880] deprecated pixel format used, make sure you did set range correctly\n",
      "[swscaler @ 0x5643b91c0500] [swscaler @ 0x5643b9346780] deprecated pixel format used, make sure you did set range correctly\n",
      "[swscaler @ 0x5643b91c0500] [swscaler @ 0x5643b9440280] deprecated pixel format used, make sure you did set range correctly\n",
      "[swscaler @ 0x5643b91c0500] [swscaler @ 0x5643b94b2140] deprecated pixel format used, make sure you did set range correctly\n",
      "[swscaler @ 0x5643b92323c0] [swscaler @ 0x5643b914e640] deprecated pixel format used, make sure you did set range correctly\n",
      "[swscaler @ 0x5643b92323c0] [swscaler @ 0x5643b911c5c0] deprecated pixel format used, make sure you did set range correctly\n",
      "[swscaler @ 0x5643b92323c0] [swscaler @ 0x5643b9160080] deprecated pixel format used, make sure you did set range correctly\n",
      "[swscaler @ 0x5643b92323c0] [swscaler @ 0x5643b924a180] deprecated pixel format used, make sure you did set range correctly\n",
      "[swscaler @ 0x5643b92323c0] [swscaler @ 0x5643b91eb340] deprecated pixel format used, make sure you did set range correctly\n",
      "[swscaler @ 0x5643b92323c0] [swscaler @ 0x5643b9223500] deprecated pixel format used, make sure you did set range correctly\n",
      "[swscaler @ 0x5643b92323c0] [swscaler @ 0x5643b9379380] deprecated pixel format used, make sure you did set range correctly\n",
      "[swscaler @ 0x5643b92323c0] [swscaler @ 0x5643b93ebcc0] deprecated pixel format used, make sure you did set range correctly\n",
      "[swscaler @ 0x5643b92323c0] [swscaler @ 0x5643b94af000] deprecated pixel format used, make sure you did set range correctly\n",
      "[swscaler @ 0x5643b92323c0] [swscaler @ 0x5643b914e640] deprecated pixel format used, make sure you did set range correctly\n",
      "[swscaler @ 0x5643b92323c0] [swscaler @ 0x5643b911d640] deprecated pixel format used, make sure you did set range correctly\n",
      "[swscaler @ 0x5643b92323c0] [swscaler @ 0x5643b91d1f40] deprecated pixel format used, make sure you did set range correctly\n",
      "[swscaler @ 0x5643b92323c0] [swscaler @ 0x5643b924a180] deprecated pixel format used, make sure you did set range correctly\n",
      "[swscaler @ 0x5643b92323c0] [swscaler @ 0x5643b9179480] deprecated pixel format used, make sure you did set range correctly\n",
      "[swscaler @ 0x5643b92323c0] [swscaler @ 0x5643b91b1640] deprecated pixel format used, make sure you did set range correctly\n",
      "[swscaler @ 0x5643b92323c0] [swscaler @ 0x5643b9379380] deprecated pixel format used, make sure you did set range correctly\n",
      "[swscaler @ 0x5643b92323c0] [swscaler @ 0x5643b93ebcc0] deprecated pixel format used, make sure you did set range correctly\n",
      "[swscaler @ 0x5643b92323c0] [swscaler @ 0x5643b94af000] deprecated pixel format used, make sure you did set range correctly\n",
      "Output #0, rawvideo, to 'pipe:':\n",
      "  Metadata:\n",
      "    major_brand     : isom\n",
      "    minor_version   : 512\n",
      "    compatible_brands: isomiso2mp41\n",
      "    encoder         : Lavf59.27.100\n",
      "  Stream #0:0: Video: rawvideo (RGB[24] / 0x18424752), rgb24(pc, gbr/smpte170m/smpte170m, progressive), 512x256 [SAR 1:1 DAR 2:1], q=2-31, 75497 kb/s, 24 fps, 24 tbn\n",
      "    Metadata:\n",
      "      encoder         : Lavc59.37.100 rawvideo\n",
      "    Side data:\n",
      "      stereo3d: 2D\n",
      "      spherical: equirectangular (0.000000/0.000000/0.000000) \n",
      "frame=    1 fps=0.0 q=0.0 size=       0kB time=00:00:00.00 bitrate=N/A speed=   0x    \r"
     ]
    },
    {
     "name": "stdout",
     "output_type": "stream",
     "text": [
      "torch.Size([3, 512, 256])\n",
      "torch.Size([3, 512, 256])\n",
      "torch.Size([3, 512, 256])\n",
      "torch.Size([3, 512, 256])\n",
      "torch.Size([3, 512, 256])\n",
      "torch.Size([3, 512, 256])\n",
      "torch.Size([3, 512, 256])\n",
      "torch.Size([3, 512, 256])\n",
      "torch.Size([3, 512, 256])\n",
      "torch.Size([3, 512, 256])\n",
      "torch.Size([3, 512, 256])\n",
      "torch.Size([3, 512, 256])\n",
      "torch.Size([3, 512, 256])\n",
      "torch.Size([3, 512, 256])\n",
      "torch.Size([3, 512, 256])\n",
      "torch.Size([3, 512, 256])\n",
      "torch.Size([3, 512, 256])\n",
      "torch.Size([3, 512, 256])\n",
      "torch.Size([3, 512, 256])\n",
      "torch.Size([3, 512, 256])\n"
     ]
    },
    {
     "name": "stderr",
     "output_type": "stream",
     "text": [
      "frame=   14 fps=0.0 q=-0.0 size=    4992kB time=00:00:00.54 bitrate=75497.4kbits/s speed=0.949x    \r"
     ]
    },
    {
     "name": "stdout",
     "output_type": "stream",
     "text": [
      "torch.Size([3, 512, 256])\n",
      "torch.Size([3, 512, 256])\n",
      "torch.Size([3, 512, 256])\n",
      "torch.Size([3, 512, 256])\n",
      "torch.Size([3, 512, 256])\n",
      "torch.Size([3, 512, 256])\n",
      "torch.Size([3, 512, 256])\n",
      "torch.Size([3, 512, 256])\n",
      "torch.Size([3, 512, 256])\n",
      "torch.Size([3, 512, 256])\n",
      "torch.Size([3, 512, 256])\n",
      "torch.Size([3, 512, 256])\n",
      "torch.Size([3, 512, 256])\n",
      "torch.Size([3, 512, 256])\n",
      "torch.Size([3, 512, 256])\n",
      "torch.Size([3, 512, 256])\n",
      "torch.Size([3, 512, 256])\n",
      "torch.Size([3, 512, 256])\n",
      "torch.Size([3, 512, 256])\n",
      "torch.Size([3, 512, 256])\n",
      "torch.Size([3, 512, 256])\n",
      "torch.Size([3, 512, 256])\n",
      "torch.Size([3, 512, 256])\n"
     ]
    },
    {
     "name": "stderr",
     "output_type": "stream",
     "text": [
      "frame=   39 fps= 35 q=-0.0 size=   14592kB time=00:00:01.58 bitrate=75497.5kbits/s speed=1.43x    \r"
     ]
    },
    {
     "name": "stdout",
     "output_type": "stream",
     "text": [
      "torch.Size([3, 512, 256])\n",
      "torch.Size([3, 512, 256])\n",
      "torch.Size([3, 512, 256])\n",
      "torch.Size([3, 512, 256])\n",
      "torch.Size([3, 512, 256])\n",
      "torch.Size([3, 512, 256])\n",
      "torch.Size([3, 512, 256])\n",
      "torch.Size([3, 512, 256])\n",
      "torch.Size([3, 512, 256])\n",
      "torch.Size([3, 512, 256])\n",
      "torch.Size([3, 512, 256])\n",
      "torch.Size([3, 512, 256])\n",
      "torch.Size([3, 512, 256])\n",
      "torch.Size([3, 512, 256])\n",
      "torch.Size([3, 512, 256])\n",
      "torch.Size([3, 512, 256])\n",
      "torch.Size([3, 512, 256])\n",
      "torch.Size([3, 512, 256])\n",
      "torch.Size([3, 512, 256])\n",
      "torch.Size([3, 512, 256])\n",
      "torch.Size([3, 512, 256])\n"
     ]
    },
    {
     "name": "stderr",
     "output_type": "stream",
     "text": [
      "frame=   65 fps= 40 q=-0.0 size=   24576kB time=00:00:02.66 bitrate=75497.5kbits/s speed=1.66x    \r"
     ]
    },
    {
     "name": "stdout",
     "output_type": "stream",
     "text": [
      "torch.Size([3, 512, 256])\n",
      "torch.Size([3, 512, 256])\n",
      "torch.Size([3, 512, 256])\n",
      "torch.Size([3, 512, 256])\n",
      "torch.Size([3, 512, 256])\n",
      "torch.Size([3, 512, 256])\n",
      "torch.Size([3, 512, 256])\n",
      "torch.Size([3, 512, 256])\n",
      "torch.Size([3, 512, 256])\n",
      "torch.Size([3, 512, 256])\n",
      "torch.Size([3, 512, 256])\n",
      "torch.Size([3, 512, 256])\n",
      "torch.Size([3, 512, 256])\n",
      "torch.Size([3, 512, 256])\n",
      "torch.Size([3, 512, 256])\n",
      "torch.Size([3, 512, 256])\n",
      "torch.Size([3, 512, 256])\n",
      "torch.Size([3, 512, 256])\n",
      "torch.Size([3, 512, 256])\n",
      "torch.Size([3, 512, 256])\n",
      "torch.Size([3, 512, 256])\n",
      "torch.Size([3, 512, 256])\n",
      "torch.Size([3, 512, 256])\n",
      "torch.Size([3, 512, 256])\n",
      "torch.Size([3, 512, 256])\n",
      "torch.Size([3, 512, 256])\n",
      "torch.Size([3, 512, 256])\n",
      "torch.Size([3, 512, 256])\n",
      "torch.Size([3, 512, 256])\n",
      "torch.Size([3, 512, 256])\n",
      "torch.Size([3, 512, 256])\n",
      "torch.Size([3, 512, 256])\n",
      "torch.Size([3, 512, 256])\n"
     ]
    },
    {
     "name": "stderr",
     "output_type": "stream",
     "text": [
      "frame=   93 fps= 44 q=-0.0 size=   35328kB time=00:00:03.83 bitrate=75497.5kbits/s speed=1.82x    \r"
     ]
    },
    {
     "name": "stdout",
     "output_type": "stream",
     "text": [
      "torch.Size([3, 512, 256])\n",
      "torch.Size([3, 512, 256])\n",
      "torch.Size([3, 512, 256])\n",
      "torch.Size([3, 512, 256])\n",
      "torch.Size([3, 512, 256])\n",
      "torch.Size([3, 512, 256])\n",
      "torch.Size([3, 512, 256])\n",
      "torch.Size([3, 512, 256])\n",
      "torch.Size([3, 512, 256])\n",
      "torch.Size([3, 512, 256])\n",
      "torch.Size([3, 512, 256])\n",
      "torch.Size([3, 512, 256])\n",
      "torch.Size([3, 512, 256])\n",
      "torch.Size([3, 512, 256])\n",
      "torch.Size([3, 512, 256])\n",
      "torch.Size([3, 512, 256])\n",
      "torch.Size([3, 512, 256])\n",
      "torch.Size([3, 512, 256])\n",
      "torch.Size([3, 512, 256])\n",
      "torch.Size([3, 512, 256])\n",
      "torch.Size([3, 512, 256])\n",
      "torch.Size([3, 512, 256])\n"
     ]
    },
    {
     "name": "stderr",
     "output_type": "stream",
     "text": [
      "frame=  117 fps= 45 q=-0.0 size=   44544kB time=00:00:04.83 bitrate=75497.5kbits/s speed=1.85x    \r"
     ]
    },
    {
     "name": "stdout",
     "output_type": "stream",
     "text": [
      "torch.Size([3, 512, 256])\n",
      "torch.Size([3, 512, 256])\n",
      "torch.Size([3, 512, 256])\n",
      "torch.Size([3, 512, 256])\n",
      "torch.Size([3, 512, 256])\n",
      "torch.Size([3, 512, 256])\n",
      "torch.Size([3, 512, 256])\n",
      "torch.Size([3, 512, 256])\n",
      "torch.Size([3, 512, 256])\n",
      "torch.Size([3, 512, 256])\n",
      "torch.Size([3, 512, 256])\n",
      "torch.Size([3, 512, 256])\n",
      "torch.Size([3, 512, 256])\n",
      "torch.Size([3, 512, 256])\n",
      "torch.Size([3, 512, 256])\n",
      "torch.Size([3, 512, 256])\n",
      "torch.Size([3, 512, 256])\n",
      "torch.Size([3, 512, 256])\n",
      "torch.Size([3, 512, 256])\n",
      "torch.Size([3, 512, 256])\n",
      "torch.Size([3, 512, 256])\n",
      "torch.Size([3, 512, 256])\n",
      "torch.Size([3, 512, 256])\n"
     ]
    },
    {
     "name": "stderr",
     "output_type": "stream",
     "text": [
      "frame=  141 fps= 45 q=-0.0 size=   53760kB time=00:00:05.83 bitrate=75497.5kbits/s speed=1.87x    \r"
     ]
    },
    {
     "name": "stdout",
     "output_type": "stream",
     "text": [
      "torch.Size([3, 512, 256])\n",
      "torch.Size([3, 512, 256])\n",
      "torch.Size([3, 512, 256])\n",
      "torch.Size([3, 512, 256])\n",
      "torch.Size([3, 512, 256])\n",
      "torch.Size([3, 512, 256])\n",
      "torch.Size([3, 512, 256])\n",
      "torch.Size([3, 512, 256])\n",
      "torch.Size([3, 512, 256])\n",
      "torch.Size([3, 512, 256])\n"
     ]
    }
   ],
   "source": [
    "path = '/mnt/d/data/tandon/floor1.mp4'\n",
    "\n",
    "it = ffmpeg.input(path).filter('scale', 512, 256).output('pipe:', format='rawvideo', pix_fmt='rgb24').run_async(pipe_stdout=True)\n",
    "while it.poll() is None:\n",
    "    packet = it.stdout.read(512 * 256 * 3)\n",
    "    if len(packet) == 0:\n",
    "        break\n",
    "    frame = torch.from_numpy(\n",
    "        np.frombuffer(packet, np.uint8).reshape(\n",
    "            [512, 256, 3]\n",
    "        ).copy()\n",
    "    ).permute(2, 0, 1)\n",
    "    print(frame.shape)\n",
    "    "
   ]
  },
  {
   "cell_type": "code",
   "execution_count": 7,
   "metadata": {},
   "outputs": [],
   "source": [
    "import torch\n",
    "import numpy as np\n",
    "while it.poll() is None:\n",
    "    packet = it.stdout.read(512 * 256 * 3)\n",
    "    if len(packet) == 0:\n",
    "        break\n",
    "    frame = torch.from_numpy(\n",
    "        np.frombuffer(packet, np.uint8).reshape(\n",
    "            [512, 256, 3]\n",
    "        ).copy()\n",
    "    ).permute(2, 0, 1)\n",
    "    print(frame.shape)\n",
    "    \n",
    "    "
   ]
  },
  {
   "cell_type": "code",
   "execution_count": null,
   "metadata": {},
   "outputs": [],
   "source": []
  }
 ],
 "metadata": {
  "kernelspec": {
   "display_name": "base",
   "language": "python",
   "name": "python3"
  },
  "language_info": {
   "codemirror_mode": {
    "name": "ipython",
    "version": 3
   },
   "file_extension": ".py",
   "mimetype": "text/x-python",
   "name": "python",
   "nbconvert_exporter": "python",
   "pygments_lexer": "ipython3",
   "version": "3.10.10"
  },
  "orig_nbformat": 4
 },
 "nbformat": 4,
 "nbformat_minor": 2
}
